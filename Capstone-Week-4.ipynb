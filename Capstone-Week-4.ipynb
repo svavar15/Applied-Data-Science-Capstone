{
    "cells": [
        {
            "cell_type": "markdown",
            "metadata": {
                "collapsed": true
            },
            "source": "# Week 4 - Introduction"
        },
        {
            "cell_type": "markdown",
            "metadata": {},
            "source": "## Business problem"
        },
        {
            "cell_type": "markdown",
            "metadata": {},
            "source": "New York City has everything, all types of restaurant and every activity you'd ever want to do.\nI want to open up a vegan restaurant and I want to have an advantage. I want to open up my restaurant at the best possible spot.\nI want to be in area where few other vegan places are near, but a lot of people traffic. "
        },
        {
            "cell_type": "markdown",
            "metadata": {},
            "source": "## Where's the best spot to open up a vegan restaurant"
        },
        {
            "cell_type": "markdown",
            "metadata": {},
            "source": "I want to go know where is the best spot to open a vegan restaurant in New York City.\nI have to take into account competitors, gyms and other health related places in NYC."
        },
        {
            "cell_type": "markdown",
            "metadata": {},
            "source": "## Target Audience"
        },
        {
            "cell_type": "markdown",
            "metadata": {},
            "source": "Vegan and/or people who wants to eat healthy organic food."
        },
        {
            "cell_type": "markdown",
            "metadata": {},
            "source": "## Data"
        },
        {
            "cell_type": "markdown",
            "metadata": {},
            "source": "I'm going to use data from Foursquare Venues Categories similar to week 3 project, https://developer.foursquare.com/docs/resources/categories\nAnd as an addition I'm going to use dataset from https://geo.nyu.edu/catalog/nyu_2451_34572 \n"
        },
        {
            "cell_type": "code",
            "execution_count": null,
            "metadata": {},
            "outputs": [],
            "source": ""
        }
    ],
    "metadata": {
        "kernelspec": {
            "display_name": "Python 3.6",
            "language": "python",
            "name": "python3"
        },
        "language_info": {
            "codemirror_mode": {
                "name": "ipython",
                "version": 3
            },
            "file_extension": ".py",
            "mimetype": "text/x-python",
            "name": "python",
            "nbconvert_exporter": "python",
            "pygments_lexer": "ipython3",
            "version": "3.6.9"
        }
    },
    "nbformat": 4,
    "nbformat_minor": 1
}